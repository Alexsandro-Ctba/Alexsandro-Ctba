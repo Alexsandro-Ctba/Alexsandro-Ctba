{
  "cells": [
    {
      "cell_type": "markdown",
      "metadata": {
        "id": "view-in-github",
        "colab_type": "text"
      },
      "source": [
        "<a href=\"https://colab.research.google.com/github/Alexsandro-Ctba/Alexsandro-Ctba/blob/main/Curso_python.ipynb\" target=\"_parent\"><img src=\"https://colab.research.google.com/assets/colab-badge.svg\" alt=\"Open In Colab\"/></a>"
      ]
    },
    {
      "cell_type": "code",
      "source": [
        "5 == 4"
      ],
      "metadata": {
        "colab": {
          "base_uri": "https://localhost:8080/"
        },
        "id": "ZMb_MbpcvBFm",
        "outputId": "08720c0f-fc97-4dbe-99b5-e0782747ec6e"
      },
      "execution_count": 2,
      "outputs": [
        {
          "output_type": "execute_result",
          "data": {
            "text/plain": [
              "False"
            ]
          },
          "metadata": {},
          "execution_count": 2
        }
      ]
    },
    {
      "cell_type": "code",
      "source": [
        "15 > 20"
      ],
      "metadata": {
        "colab": {
          "base_uri": "https://localhost:8080/"
        },
        "id": "WKQ7ean2vIJ-",
        "outputId": "7aae3093-c7e7-4186-ef74-3b091b689e4a"
      },
      "execution_count": 3,
      "outputs": [
        {
          "output_type": "execute_result",
          "data": {
            "text/plain": [
              "False"
            ]
          },
          "metadata": {},
          "execution_count": 3
        }
      ]
    },
    {
      "cell_type": "code",
      "source": [
        "15<20\n"
      ],
      "metadata": {
        "colab": {
          "base_uri": "https://localhost:8080/"
        },
        "id": "j0-tqWb_vKJG",
        "outputId": "3807aca3-a8f5-41ba-bf5c-b14824adc294"
      },
      "execution_count": 4,
      "outputs": [
        {
          "output_type": "execute_result",
          "data": {
            "text/plain": [
              "True"
            ]
          },
          "metadata": {},
          "execution_count": 4
        }
      ]
    },
    {
      "cell_type": "code",
      "source": [
        "'python' == 'java'"
      ],
      "metadata": {
        "colab": {
          "base_uri": "https://localhost:8080/"
        },
        "id": "73Z5uyOqvNaD",
        "outputId": "b46206fb-dca5-4b44-ddf8-1156c471a89b"
      },
      "execution_count": 10,
      "outputs": [
        {
          "output_type": "execute_result",
          "data": {
            "text/plain": [
              "False"
            ]
          },
          "metadata": {},
          "execution_count": 10
        }
      ]
    },
    {
      "cell_type": "code",
      "source": [
        "'python' > 'java'"
      ],
      "metadata": {
        "colab": {
          "base_uri": "https://localhost:8080/"
        },
        "id": "1swX9ZfwvtRP",
        "outputId": "2adb5bf2-54dc-40ab-cd25-29ee92c4a9a1"
      },
      "execution_count": 11,
      "outputs": [
        {
          "output_type": "execute_result",
          "data": {
            "text/plain": [
              "True"
            ]
          },
          "metadata": {},
          "execution_count": 11
        }
      ]
    },
    {
      "cell_type": "code",
      "source": [
        "'pao' > 'bau '"
      ],
      "metadata": {
        "colab": {
          "base_uri": "https://localhost:8080/"
        },
        "id": "PeWzmXsov42n",
        "outputId": "bbbae3d2-84da-4eb3-d407-f5ef8d0829ec"
      },
      "execution_count": 12,
      "outputs": [
        {
          "output_type": "execute_result",
          "data": {
            "text/plain": [
              "True"
            ]
          },
          "metadata": {},
          "execution_count": 12
        }
      ]
    },
    {
      "cell_type": "code",
      "source": [
        "'bau' > 'pao'"
      ],
      "metadata": {
        "colab": {
          "base_uri": "https://localhost:8080/"
        },
        "id": "laeezrRUv9Zn",
        "outputId": "75443165-fcc8-49db-9bf9-3c4e6129b632"
      },
      "execution_count": 13,
      "outputs": [
        {
          "output_type": "execute_result",
          "data": {
            "text/plain": [
              "False"
            ]
          },
          "metadata": {},
          "execution_count": 13
        }
      ]
    },
    {
      "cell_type": "code",
      "source": [
        "nome = 'pao'\n",
        "nome_1 ='bau'\n",
        "print(nome_1.encode())\n",
        "#resultado: b'bau'\n",
        "# b significa que a codifição é utf8.\n"
      ],
      "metadata": {
        "colab": {
          "base_uri": "https://localhost:8080/"
        },
        "id": "GBjTDaOHwYHn",
        "outputId": "d78bfb12-3292-4fb6-839c-28ca0fa1744c"
      },
      "execution_count": 18,
      "outputs": [
        {
          "output_type": "stream",
          "name": "stdout",
          "text": [
            "b'bau'\n"
          ]
        }
      ]
    },
    {
      "cell_type": "code",
      "source": [
        "num_endereco = 500\n",
        "num_endereco_2 = 2014"
      ],
      "metadata": {
        "id": "HAoyQjq7xDyk"
      },
      "execution_count": 23,
      "outputs": []
    },
    {
      "cell_type": "code",
      "source": [
        "num_enderecox = str(num_endereco)\n",
        "print(type(num_enderecox))\n",
        "#resultado <class 'str'> exibe o tipo da variavel que se torna string agora.\n",
        "num_endereco_2 = int(num_endereco_2)\n",
        "print(type(num_endereco_2)) #resultado retorna tipo da variavel\n",
        " "
      ],
      "metadata": {
        "colab": {
          "base_uri": "https://localhost:8080/"
        },
        "id": "hW_tYlsGxRK3",
        "outputId": "faf17f0b-02d9-4ae5-87c0-ff1d63aebb43"
      },
      "execution_count": 25,
      "outputs": [
        {
          "output_type": "stream",
          "name": "stdout",
          "text": [
            "<class 'str'>\n",
            "<class 'int'>\n"
          ]
        }
      ]
    },
    {
      "cell_type": "markdown",
      "source": [
        "# LIST\n",
        "Aceitam valores duplicados"
      ],
      "metadata": {
        "id": "uXYhOloQ42ww"
      }
    },
    {
      "cell_type": "code",
      "source": [
        "#criando listas\n",
        "frutas = ['banana','maça','melanacia','laranja','caju','abacaxi','abacate']\n",
        "saldo_alunos  =[500.00,1200.00,1000,600.00,5000.00]\n",
        "num_pacientes =[25,36,50,45,22,33,89]\n",
        "print(type(frutas))"
      ],
      "metadata": {
        "colab": {
          "base_uri": "https://localhost:8080/"
        },
        "id": "pMCbpDq65DJr",
        "outputId": "266b2f35-882a-4921-8ebc-72a238348b14"
      },
      "execution_count": 29,
      "outputs": [
        {
          "output_type": "stream",
          "name": "stdout",
          "text": [
            "<class 'list'>\n"
          ]
        }
      ]
    },
    {
      "cell_type": "code",
      "source": [
        "frutas_dup = ['banana','banana','melanacia','laranja','caju','abacaxi','abacate','abacate']"
      ],
      "metadata": {
        "id": "EHR7LD7D6Br9"
      },
      "execution_count": 31,
      "outputs": []
    },
    {
      "cell_type": "code",
      "source": [
        "print(frutas_dup)"
      ],
      "metadata": {
        "colab": {
          "base_uri": "https://localhost:8080/"
        },
        "id": "ANztE0m-6KJC",
        "outputId": "d9de0f86-33c1-4aab-9db4-1eef4168e171"
      },
      "execution_count": 32,
      "outputs": [
        {
          "output_type": "stream",
          "name": "stdout",
          "text": [
            "['banana', 'banana', 'melanacia', 'laranja', 'caju', 'abacaxi', 'abacate', 'abacate']\n"
          ]
        }
      ]
    },
    {
      "cell_type": "code",
      "source": [
        "print(saldo_alunos)"
      ],
      "metadata": {
        "colab": {
          "base_uri": "https://localhost:8080/"
        },
        "id": "fDTcfVPZ5yCk",
        "outputId": "d5621338-4ba9-4272-c1eb-c96a74aa02a5"
      },
      "execution_count": 27,
      "outputs": [
        {
          "output_type": "stream",
          "name": "stdout",
          "text": [
            "[500.0, 1200.0, 1000, 600.0, 5000.0]\n"
          ]
        }
      ]
    },
    {
      "cell_type": "code",
      "source": [
        "print(num_pacientes)"
      ],
      "metadata": {
        "colab": {
          "base_uri": "https://localhost:8080/"
        },
        "id": "DuXYoYLk50dO",
        "outputId": "742b75ad-9dfb-49d9-9514-d7b7d5b00db4"
      },
      "execution_count": 28,
      "outputs": [
        {
          "output_type": "stream",
          "name": "stdout",
          "text": [
            "[25, 36, 50, 45, 22, 33, 89]\n"
          ]
        }
      ]
    },
    {
      "cell_type": "code",
      "source": [
        "#exibindo tamanho da lista \n",
        "\n",
        "len(frutas_dup)"
      ],
      "metadata": {
        "colab": {
          "base_uri": "https://localhost:8080/"
        },
        "id": "_0qjLW5q6O80",
        "outputId": "59de017e-e77e-42cb-ccd7-566ca009d3a8"
      },
      "execution_count": 33,
      "outputs": [
        {
          "output_type": "execute_result",
          "data": {
            "text/plain": [
              "8"
            ]
          },
          "metadata": {},
          "execution_count": 33
        }
      ]
    },
    {
      "cell_type": "code",
      "source": [
        "list_variada =[10,2.5,'python']\n",
        "print(list_variada)"
      ],
      "metadata": {
        "colab": {
          "base_uri": "https://localhost:8080/"
        },
        "id": "azN_UpxS6ZWQ",
        "outputId": "a83f2e94-3180-4355-88b7-a0faa146c16d"
      },
      "execution_count": 35,
      "outputs": [
        {
          "output_type": "stream",
          "name": "stdout",
          "text": [
            "[10, 2.5, 'python']\n"
          ]
        }
      ]
    },
    {
      "cell_type": "code",
      "source": [
        "#acessar item da lista \n",
        "print(frutas[0])"
      ],
      "metadata": {
        "colab": {
          "base_uri": "https://localhost:8080/"
        },
        "id": "yReMmnjo6nIO",
        "outputId": "ffc87f93-0d4d-415d-e608-ecc744e64984"
      },
      "execution_count": 37,
      "outputs": [
        {
          "output_type": "stream",
          "name": "stdout",
          "text": [
            "banana\n"
          ]
        }
      ]
    },
    {
      "cell_type": "code",
      "source": [
        "#add item ao final da lista frutas \n",
        "\n",
        "frutas.append('morando')\n",
        "print(frutas)"
      ],
      "metadata": {
        "colab": {
          "base_uri": "https://localhost:8080/"
        },
        "id": "wPiYwod162bj",
        "outputId": "3844da46-aea7-4610-be90-db8913a07b3a"
      },
      "execution_count": 39,
      "outputs": [
        {
          "output_type": "stream",
          "name": "stdout",
          "text": [
            "['banana', 'maça', 'melanacia', 'laranja', 'caju', 'abacaxi', 'abacate', 'morando', 'morando']\n"
          ]
        }
      ]
    },
    {
      "cell_type": "code",
      "source": [
        ""
      ],
      "metadata": {
        "id": "yKfEOY9d_pEb"
      },
      "execution_count": null,
      "outputs": []
    },
    {
      "cell_type": "code",
      "source": [
        "#extendendo listas \n",
        "\n",
        "#forma errada de juntar\n",
        "juntando_listas = saldo_alunos + frutas\n",
        "print(juntando_listas)\n",
        "#forma certa\n",
        "saldo_alunos.extend(num_pacientes)\n",
        "print(type(saldo_alunos))\n"
      ],
      "metadata": {
        "colab": {
          "base_uri": "https://localhost:8080/"
        },
        "id": "R8Ky6-y17K_z",
        "outputId": "88fad4f0-f389-4e19-c37a-271cc5c8be8e"
      },
      "execution_count": 59,
      "outputs": [
        {
          "output_type": "stream",
          "name": "stdout",
          "text": [
            "[500.0, 1200.0, 1000, 600.0, 5000.0, 25, 36, 50, 45, 22, 33, 89, 25, 36, 50, 45, 22, 33, 89, 25, 36, 50, 45, 22, 33, 89, 25, 36, 50, 45, 22, 33, 89, 25, 36, 50, 45, 22, 33, 89, 25, 36, 50, 45, 22, 33, 89, 'abacate', 'abacate']\n",
            "<class 'list'>\n"
          ]
        }
      ]
    },
    {
      "cell_type": "markdown",
      "source": [
        "# TUPLAS\n",
        "Aceitam valores duplicados"
      ],
      "metadata": {
        "id": "aYjSWmz48TEa"
      }
    },
    {
      "cell_type": "code",
      "source": [
        "frutas = ['banana','maça','melanacia','laranja','caju','abacaxi','abacate']\n",
        "saldo_alunos  =[500.00,1200.00,1000,600.00,5000.00]\n",
        "num_pacientes =[25,36,50,45,22,33,89]"
      ],
      "metadata": {
        "id": "xElvrcc_8V31"
      },
      "execution_count": 42,
      "outputs": []
    },
    {
      "cell_type": "code",
      "source": [
        "#imprimindo da posição 0 até a 3\n",
        "\n",
        "print(frutas[0:4])"
      ],
      "metadata": {
        "colab": {
          "base_uri": "https://localhost:8080/"
        },
        "id": "VeB3yXMq8z8q",
        "outputId": "d2682ea0-1019-48fe-84ce-dc0ddfa795af"
      },
      "execution_count": 45,
      "outputs": [
        {
          "output_type": "stream",
          "name": "stdout",
          "text": [
            "['banana', 'maça', 'melanacia', 'laranja']\n"
          ]
        }
      ]
    },
    {
      "cell_type": "code",
      "source": [
        "#permite valores duplicados\n",
        "frutas = ['abacate','abacate']\n",
        "print(frutas)"
      ],
      "metadata": {
        "colab": {
          "base_uri": "https://localhost:8080/"
        },
        "id": "qR85cWY1-XyS",
        "outputId": "7a2951d5-016e-4cea-e91e-c4987900c71e"
      },
      "execution_count": 47,
      "outputs": [
        {
          "output_type": "stream",
          "name": "stdout",
          "text": [
            "['abacate', 'abacate']\n"
          ]
        }
      ]
    },
    {
      "cell_type": "code",
      "source": [
        "#juntar duplas, diferente da lista que utilizamos extend podemos usar aqui o operador +\n",
        "tupla_junto = frutas + num_pacientes\n",
        "print(tupla_junto)\n",
        "\n",
        "print(type(tupla_junto))"
      ],
      "metadata": {
        "colab": {
          "base_uri": "https://localhost:8080/"
        },
        "id": "xbrBR31r-k7x",
        "outputId": "1075df10-da9b-401b-a94d-53a5144039a6"
      },
      "execution_count": 52,
      "outputs": [
        {
          "output_type": "stream",
          "name": "stdout",
          "text": [
            "['abacate', 'abacate', 25, 36, 50, 45, 22, 33, 89]\n",
            "<class 'list'>\n"
          ]
        }
      ]
    },
    {
      "cell_type": "code",
      "source": [
        "#contar valores repetidos em tupla \n",
        "num_pacientes =[25,36,50,45,22,33,89,89,25,36,50,45,45,45,45,45]\n",
        "\n",
        "contador = num_pacientes.count(45)\n",
        "\n",
        "print(contador)\n"
      ],
      "metadata": {
        "colab": {
          "base_uri": "https://localhost:8080/"
        },
        "id": "g7OsEYv5-2hX",
        "outputId": "4ccc4337-9b49-4714-b90e-051bafe2c6ab"
      },
      "execution_count": 63,
      "outputs": [
        {
          "output_type": "stream",
          "name": "stdout",
          "text": [
            "6\n"
          ]
        }
      ]
    },
    {
      "cell_type": "markdown",
      "source": [
        "# SET\n",
        "> Não podem ser modifcados \n",
        "\n",
        "> Não aceitam duplicados\n"
      ],
      "metadata": {
        "id": "c7mIA3h1BdFq"
      }
    },
    {
      "cell_type": "code",
      "source": [
        "cidades ={'belo horizonte','curitiba','natal','manaus'}\n",
        "print(type(cidades))"
      ],
      "metadata": {
        "id": "gsSAE3qOBu4D"
      },
      "execution_count": 64,
      "outputs": []
    },
    {
      "cell_type": "code",
      "source": [
        "cidades2 ={'belo horizonte','curitiba','natal','manaus','natal','natal'}\n",
        "  #não será exibido erros porém valores repetidos não serão inseridos\n",
        "print(cidades2)"
      ],
      "metadata": {
        "colab": {
          "base_uri": "https://localhost:8080/"
        },
        "id": "vMwumPvNEoAB",
        "outputId": "4de59dad-dfc2-4d12-c48f-672265011302"
      },
      "execution_count": 66,
      "outputs": [
        {
          "output_type": "stream",
          "name": "stdout",
          "text": [
            "{'natal', 'belo horizonte', 'manaus', 'curitiba'}\n"
          ]
        }
      ]
    },
    {
      "cell_type": "code",
      "source": [
        "#verificar se valor esta na variavel set, retorna true ou false \n",
        "print('manaus' in cidades2)"
      ],
      "metadata": {
        "colab": {
          "base_uri": "https://localhost:8080/"
        },
        "id": "AE4VlvbpEt3a",
        "outputId": "249c4084-d951-4495-86d1-091fd123aabe"
      },
      "execution_count": 67,
      "outputs": [
        {
          "output_type": "stream",
          "name": "stdout",
          "text": [
            "True\n"
          ]
        }
      ]
    },
    {
      "cell_type": "code",
      "source": [
        "#verificar se valor esta na variavel set, retorna true ou false \n",
        "print('parana' in cidades2)"
      ],
      "metadata": {
        "colab": {
          "base_uri": "https://localhost:8080/"
        },
        "id": "2ge41e2hGgZp",
        "outputId": "58452939-8d3e-4757-974a-79cbe0dbbfb2"
      },
      "execution_count": 68,
      "outputs": [
        {
          "output_type": "stream",
          "name": "stdout",
          "text": [
            "False\n"
          ]
        }
      ]
    },
    {
      "cell_type": "code",
      "source": [
        "#usando add p/ adicionar item a variavel set\n",
        "cidades2.add('porto alegre')"
      ],
      "metadata": {
        "id": "DS4cDDHIGsxm"
      },
      "execution_count": 73,
      "outputs": []
    },
    {
      "cell_type": "code",
      "source": [
        "print(cidades2)"
      ],
      "metadata": {
        "colab": {
          "base_uri": "https://localhost:8080/"
        },
        "id": "PfRHJAudGxMw",
        "outputId": "2919e787-ab0b-4611-ee67-c40f8d519c70"
      },
      "execution_count": 72,
      "outputs": [
        {
          "output_type": "stream",
          "name": "stdout",
          "text": [
            "{'belo horizonte', 'porto alegre', 'natal', 'curitiba', 'manaus'}\n"
          ]
        }
      ]
    },
    {
      "cell_type": "code",
      "source": [
        "#unindo dados de set\n",
        "\n",
        "cidades3 ={'Curitiba','Campo largo','itajai'}"
      ],
      "metadata": {
        "id": "sL_fq40gHJvm"
      },
      "execution_count": 74,
      "outputs": []
    },
    {
      "cell_type": "code",
      "source": [
        "cidades2.update(cidades3)#isso unira a cidades3 a cidades2\n",
        "print(cidades2)\n",
        "print(cidades3)"
      ],
      "metadata": {
        "colab": {
          "base_uri": "https://localhost:8080/"
        },
        "id": "sWvr_pDwHVPe",
        "outputId": "04769ef2-1c61-4a27-d524-949079400445"
      },
      "execution_count": 78,
      "outputs": [
        {
          "output_type": "stream",
          "name": "stdout",
          "text": [
            "{'belo horizonte', 'porto alegre', 'natal', 'curitiba', 'itajai', 'Curitiba', 'Campo largo', 'manaus'}\n",
            "{'Campo largo', 'itajai', 'Curitiba'}\n"
          ]
        }
      ]
    },
    {
      "cell_type": "markdown",
      "source": [
        "# DICTIONARY\n",
        "> Normalmente usado para trabalhar com códigos unicos \n",
        "\n",
        "> Duplicados não permitidos \n",
        "\n",
        "> Usado para criar tabelas dimensão"
      ],
      "metadata": {
        "id": "6wv1tQ1gIxsV"
      }
    },
    {
      "cell_type": "code",
      "source": [
        "cod_uf = {\n",
        "    21 : 'Maranhão',\n",
        "    22 :  'Piaui',\n",
        "    23 :  'Rio grande do sul',\n",
        "    24 :  'Paraiba',\n",
        "    25 :  'Pernanbuco',\n",
        "    26 :  'Alagoas',\n",
        "    27 :  'Sergipe',\n",
        "    28 :  'Bahia',\n",
        "    29 : 'Ceára'\n",
        "    }"
      ],
      "metadata": {
        "id": "SbQdF303JBdj"
      },
      "execution_count": 93,
      "outputs": []
    },
    {
      "cell_type": "code",
      "source": [
        ""
      ],
      "metadata": {
        "id": "DK9bHii6K2ke"
      },
      "execution_count": null,
      "outputs": []
    },
    {
      "cell_type": "code",
      "source": [
        "print(cod_uf)"
      ],
      "metadata": {
        "colab": {
          "base_uri": "https://localhost:8080/"
        },
        "id": "4xxVdOhHJHRE",
        "outputId": "80bf8b05-9e1b-4e9c-cd38-c57b592dc583"
      },
      "execution_count": 84,
      "outputs": [
        {
          "output_type": "stream",
          "name": "stdout",
          "text": [
            "{21: 'Maranhão', 22: 'Piaui', 23: 'Rio grande do sul', 24: 'Paraiba', 25: 'Pernanbuco', 26: 'Alagoas', 27: 'Sergipe', 28: 'Bahia', 29: 'Ceára'}\n"
          ]
        }
      ]
    },
    {
      "cell_type": "code",
      "source": [
        "#pegar valor do dicionario \n",
        "cod_uf.values()"
      ],
      "metadata": {
        "colab": {
          "base_uri": "https://localhost:8080/"
        },
        "id": "Y4n8SpTAKnQW",
        "outputId": "f4b4975e-1b96-4b0e-e757-f32d6e9694ee"
      },
      "execution_count": 86,
      "outputs": [
        {
          "output_type": "execute_result",
          "data": {
            "text/plain": [
              "dict_values(['Maranhão', 'Piaui', 'Rio grande do sul', 'Paraiba', 'Pernanbuco', 'Alagoas', 'Sergipe', 'Bahia', 'Ceára'])"
            ]
          },
          "metadata": {},
          "execution_count": 86
        }
      ]
    },
    {
      "cell_type": "code",
      "source": [
        "#valores duplicados não ssão permitidos\n",
        "cod_uf_dup = {\n",
        "    29 : 'Ceára',\n",
        "    29 : 'Ceára'\n",
        "    }\n",
        "\n",
        "print(cod_uf)# valores são exibidos porém repetidos não."
      ],
      "metadata": {
        "colab": {
          "base_uri": "https://localhost:8080/"
        },
        "id": "okRtW-95K5M5",
        "outputId": "4cc3d01b-4449-49b0-e6a0-f83002b9d5ad"
      },
      "execution_count": 90,
      "outputs": [
        {
          "output_type": "stream",
          "name": "stdout",
          "text": [
            "{29: 'Ceára'}\n"
          ]
        }
      ]
    },
    {
      "cell_type": "code",
      "source": [
        "#acessando valores do Dictionary\n",
        "\n",
        "pegando_valor = cod_uf.get(21)\n",
        "print(pegando_valor)\n",
        "\n",
        "#acessando valor da chave\n",
        "pegando_chave = cod_uf.keys()\n",
        "print(pegando_chave)"
      ],
      "metadata": {
        "colab": {
          "base_uri": "https://localhost:8080/"
        },
        "id": "-a_te0cJLp2b",
        "outputId": "4ede42bb-e564-48bd-9e07-73a647451e93"
      },
      "execution_count": 97,
      "outputs": [
        {
          "output_type": "stream",
          "name": "stdout",
          "text": [
            "Maranhão\n",
            "dict_keys([21, 22, 23, 24, 25, 26, 27, 28, 29])\n"
          ]
        }
      ]
    },
    {
      "cell_type": "code",
      "source": [
        "#adicionando novos valores em ordem\n",
        "cod_uf[30] ='Cidade adicionada'\n",
        "print(cod_uf)"
      ],
      "metadata": {
        "colab": {
          "base_uri": "https://localhost:8080/"
        },
        "id": "24RmDIDsMAW0",
        "outputId": "6499bb33-e6de-449f-b527-9c6cf6760c5c"
      },
      "execution_count": 100,
      "outputs": [
        {
          "output_type": "stream",
          "name": "stdout",
          "text": [
            "{21: 'Maranhão', 22: 'Piaui', 23: 'Rio grande do sul', 24: 'Paraiba', 25: 'Pernanbuco', 26: 'Alagoas', 27: 'Sergipe', 28: 'Bahia', 29: 'Ceára', 30: 'Cidade adicionada'}\n"
          ]
        }
      ]
    }
  ],
  "metadata": {
    "colab": {
      "collapsed_sections": [],
      "name": "Olá, este é o Colaboratory",
      "toc_visible": true,
      "provenance": [],
      "include_colab_link": true
    },
    "kernelspec": {
      "display_name": "Python 3",
      "name": "python3"
    }
  },
  "nbformat": 4,
  "nbformat_minor": 0
}